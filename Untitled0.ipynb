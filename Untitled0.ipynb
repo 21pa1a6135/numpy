{
  "nbformat": 4,
  "nbformat_minor": 0,
  "metadata": {
    "colab": {
      "provenance": [],
      "authorship_tag": "ABX9TyPFV/wmJrsegzoFiVf9ervQ",
      "include_colab_link": true
    },
    "kernelspec": {
      "name": "python3",
      "display_name": "Python 3"
    },
    "language_info": {
      "name": "python"
    }
  },
  "cells": [
    {
      "cell_type": "markdown",
      "metadata": {
        "id": "view-in-github",
        "colab_type": "text"
      },
      "source": [
        "<a href=\"https://colab.research.google.com/github/21pa1a6135/numpy/blob/main/Untitled0.ipynb\" target=\"_parent\"><img src=\"https://colab.research.google.com/assets/colab-badge.svg\" alt=\"Open In Colab\"/></a>"
      ]
    },
    {
      "cell_type": "code",
      "execution_count": 5,
      "metadata": {
        "colab": {
          "base_uri": "https://localhost:8080/"
        },
        "id": "U3oBHPGPmYlM",
        "outputId": "b6fd456b-676d-43b0-b363-204bd6064c45"
      },
      "outputs": [
        {
          "output_type": "stream",
          "name": "stdout",
          "text": [
            "[1 2 3]\n",
            "[[1 2 3]\n",
            " [4 5 6]]\n"
          ]
        },
        {
          "output_type": "execute_result",
          "data": {
            "text/plain": [
              "array([10, 15, 20, 25])"
            ]
          },
          "metadata": {},
          "execution_count": 5
        }
      ],
      "source": [
        "import numpy as np\n",
        "x = np.array([1,2,3])\n",
        "print(x)\n",
        " \n",
        "y=np.array([[1,2,3],[4,5,6]])\n",
        "print(y)\n",
        "\n",
        "np.arange(10,30,5)"
      ]
    },
    {
      "cell_type": "code",
      "source": [
        "import numpy as ap\n",
        "x=[1,2,3]\n",
        "b = np.append(x,[6,4,2])\n",
        "print(b)"
      ],
      "metadata": {
        "colab": {
          "base_uri": "https://localhost:8080/"
        },
        "id": "vn_AyWH_nCn_",
        "outputId": "2ca2b18b-78ef-44a5-cd60-45777109e52c"
      },
      "execution_count": 6,
      "outputs": [
        {
          "output_type": "stream",
          "name": "stdout",
          "text": [
            "[1 2 3 6 4 2]\n"
          ]
        }
      ]
    },
    {
      "cell_type": "code",
      "source": [
        "import numpy as np\n",
        "x=[1,2,3]\n",
        "print(\"The elements in X before deleting\",x)\n",
        "newarray = np.delete(x,2) # Element at index 2 is removed.\n",
        "print(\"The elements in X after deleting\",newarray)"
      ],
      "metadata": {
        "colab": {
          "base_uri": "https://localhost:8080/"
        },
        "id": "aaiZneernzSi",
        "outputId": "9a4db34c-47a1-4bc8-9d61-c1988ad06d04"
      },
      "execution_count": 7,
      "outputs": [
        {
          "output_type": "stream",
          "name": "stdout",
          "text": [
            "The elements in X before deleting [1, 2, 3]\n",
            "The elements in X after deleting [1 2]\n"
          ]
        }
      ]
    },
    {
      "cell_type": "code",
      "source": [
        "import numpy as np\n",
        "b = np.array([6,4,1,3,5,9])\n",
        "b[b<4] = -1 # Elements less than 4 are replaced with \"-1\"\n",
        "print(b)"
      ],
      "metadata": {
        "colab": {
          "base_uri": "https://localhost:8080/"
        },
        "id": "3_HMvhB5oVbF",
        "outputId": "8870b468-bdfa-48fc-a900-0a31e960dc21"
      },
      "execution_count": 8,
      "outputs": [
        {
          "output_type": "stream",
          "name": "stdout",
          "text": [
            "[ 6  4 -1 -1  5  9]\n"
          ]
        }
      ]
    },
    {
      "cell_type": "code",
      "source": [
        "import numpy as np\n",
        "a = np.array( [20,30,40,50] )\n",
        "b = np.arange( 4 )\n",
        "print(\"The elements in a are\",a)\n",
        "print(\"The elements in b are\",b)\n",
        "print(\"Result after Addition\",a+b)\n",
        "print(\"Result after substraction\",a-b)\n",
        "print(\"Result after multiplication\",a*b)\n",
        "print(\"Result after division\",a/b) \n",
        "\n"
      ],
      "metadata": {
        "colab": {
          "base_uri": "https://localhost:8080/"
        },
        "id": "kb2vsHuGoeuN",
        "outputId": "718c4d4c-f4da-48db-c349-a631dfabec2d"
      },
      "execution_count": 12,
      "outputs": [
        {
          "output_type": "stream",
          "name": "stdout",
          "text": [
            "The elements in a are [20 30 40 50]\n",
            "The elements in b are [0 1 2 3]\n",
            "Result after Addition [20 31 42 53]\n",
            "Result after substraction [20 29 38 47]\n",
            "Result after multiplication [  0  30  80 150]\n",
            "Result after division [        inf 30.         20.         16.66666667]\n"
          ]
        },
        {
          "output_type": "stream",
          "name": "stderr",
          "text": [
            "<ipython-input-12-5978a4076593>:9: RuntimeWarning: divide by zero encountered in true_divide\n",
            "  print(\"Result after division\",a/b)\n"
          ]
        }
      ]
    },
    {
      "cell_type": "code",
      "source": [
        "import numpy as np\n",
        "a= [1,2,3,4,5,6,7,8,9,10]\n",
        "print(\"The output of a[2] is\", a[2]) \n",
        "print(\"The output of a[2:4] is\",a[2:4])\n",
        "print(\"The output of a[-1] is\",a[-1]) \n",
        "print(\"The output of a[-2] is\",a[-2])\n",
        "print(\"The output of a[-5:-2] is\",a[-5:-2])"
      ],
      "metadata": {
        "colab": {
          "base_uri": "https://localhost:8080/"
        },
        "id": "H9r_AicIpzsP",
        "outputId": "1a163c6b-f785-49dd-ed8c-4dc7c56aa059"
      },
      "execution_count": 16,
      "outputs": [
        {
          "output_type": "stream",
          "name": "stdout",
          "text": [
            "The output of a[2] is 3\n",
            "The output of a[2:4] is [3, 4]\n",
            "The output of a[-1] is 10\n",
            "The output of a[-2] is 9\n",
            "The output of a[-5:-2] is [6, 7, 8]\n"
          ]
        }
      ]
    },
    {
      "cell_type": "code",
      "source": [
        "import numpy as np\n",
        "a=np.floor(10*np.random.random((3,4))) # Create a rondom 3*4 matrix.\n",
        "print(\"Let's consider a 1-D array\\n\",a)\n",
        "print(\"After reshaping to 2 by 6 matrix\\n\",a.reshape(2,6))\n",
        "print(\"To Flatten the array\\n\",a.ravel())\n",
        "print(\"To transpose the array\\n\",a.T)"
      ],
      "metadata": {
        "colab": {
          "base_uri": "https://localhost:8080/"
        },
        "id": "uVrTLlHUqcQJ",
        "outputId": "ed0f95ca-3e1b-4769-8ac2-211579fd1f1a"
      },
      "execution_count": 17,
      "outputs": [
        {
          "output_type": "stream",
          "name": "stdout",
          "text": [
            "Let's consider a 1-D array\n",
            " [[2. 3. 7. 7.]\n",
            " [2. 1. 6. 9.]\n",
            " [5. 5. 8. 8.]]\n",
            "After reshaping to 2 by 6 matrix\n",
            " [[2. 3. 7. 7. 2. 1.]\n",
            " [6. 9. 5. 5. 8. 8.]]\n",
            "To Flatten the array\n",
            " [2. 3. 7. 7. 2. 1. 6. 9. 5. 5. 8. 8.]\n",
            "To transpose the array\n",
            " [[2. 2. 5.]\n",
            " [3. 1. 5.]\n",
            " [7. 6. 8.]\n",
            " [7. 9. 8.]]\n"
          ]
        }
      ]
    },
    {
      "cell_type": "code",
      "source": [
        "a=np.arange(12).reshape(4,3)  \n",
        "\n",
        "print(\"Let's consider an array\\n\",a)\n",
        "print(\"\\n\")\n",
        "for i in a:\n",
        "    print(i*2)"
      ],
      "metadata": {
        "colab": {
          "base_uri": "https://localhost:8080/"
        },
        "id": "Vc_VpKCstEwF",
        "outputId": "f0adab58-a1b6-4ddb-bb4b-491bbeb7006c"
      },
      "execution_count": 20,
      "outputs": [
        {
          "output_type": "stream",
          "name": "stdout",
          "text": [
            "Let's consider an array\n",
            " [[ 0  1  2]\n",
            " [ 3  4  5]\n",
            " [ 6  7  8]\n",
            " [ 9 10 11]]\n",
            "\n",
            "\n",
            "[0 2 4]\n",
            "[ 6  8 10]\n",
            "[12 14 16]\n",
            "[18 20 22]\n"
          ]
        }
      ]
    }
  ]
}